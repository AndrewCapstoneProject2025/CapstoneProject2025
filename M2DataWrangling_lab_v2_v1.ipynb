{
  "cells": [
    {
      "cell_type": "markdown",
      "metadata": {
        "id": "view-in-github",
        "colab_type": "text"
      },
      "source": [
        "<a href=\"https://colab.research.google.com/github/AndrewCapstoneProject2025/CapstoneProject2025/blob/main/M2DataWrangling_lab_v2_v1.ipynb\" target=\"_parent\"><img src=\"https://colab.research.google.com/assets/colab-badge.svg\" alt=\"Open In Colab\"/></a>"
      ]
    },
    {
      "cell_type": "markdown",
      "metadata": {
        "id": "d8be15d8-fa8b-4b4f-94d7-39ed53321abd"
      },
      "source": [
        "<p style=\"text-align:center\">\n",
        "    <a href=\"https://skills.network\" target=\"_blank\">\n",
        "    <img src=\"https://cf-courses-data.s3.us.cloud-object-storage.appdomain.cloud/assets/logos/SN_web_lightmode.png\" width=\"200\" alt=\"Skills Network Logo\"  />\n",
        "    </a>\n",
        "</p>\n"
      ]
    },
    {
      "cell_type": "markdown",
      "metadata": {
        "id": "ee706056-1bac-4cb0-820e-b9824ebdb12a"
      },
      "source": [
        "# **Data Wrangling Lab**\n"
      ]
    },
    {
      "cell_type": "markdown",
      "metadata": {
        "id": "51dc38be-5625-4c22-b622-dca1d20a2134"
      },
      "source": [
        "Estimated time needed: **45** minutes\n"
      ]
    },
    {
      "cell_type": "markdown",
      "metadata": {
        "id": "03086336-ee63-4d6a-a1ce-d243006d7057"
      },
      "source": [
        "In this lab, you will perform data wrangling tasks to prepare raw data for analysis. Data wrangling involves cleaning, transforming, and organizing data into a structured format suitable for analysis. This lab focuses on tasks like identifying inconsistencies, encoding categorical variables, and feature transformation.\n"
      ]
    },
    {
      "cell_type": "markdown",
      "metadata": {
        "id": "e223ac3e-4f39-44fa-a3fe-e1e0badf69ac"
      },
      "source": [
        "## Objectives\n"
      ]
    },
    {
      "cell_type": "markdown",
      "metadata": {
        "id": "1cddaf13-6966-4047-aa87-daebb0727a7b"
      },
      "source": [
        "After completing this lab, you will be able to:\n"
      ]
    },
    {
      "cell_type": "markdown",
      "metadata": {
        "id": "b268cb62-6e7c-4d79-be7c-d946a22c6923"
      },
      "source": [
        "- Identify and remove inconsistent data entries.\n",
        "\n",
        "- Encode categorical variables for analysis.\n",
        "\n",
        "- Handle missing values using multiple imputation strategies.\n",
        "\n",
        "- Apply feature scaling and transformation techniques.\n"
      ]
    },
    {
      "cell_type": "markdown",
      "metadata": {
        "id": "2c9b4baf-895a-4feb-9b7e-a15aedf316ad"
      },
      "source": [
        "#### Intsall the required libraries\n"
      ]
    },
    {
      "cell_type": "code",
      "metadata": {
        "colab": {
          "base_uri": "https://localhost:8080/"
        },
        "id": "73057dbb-7947-47cb-a232-3b73ed6a98c3",
        "outputId": "e16b0086-4ed3-4106-b693-f274dbd8a57a"
      },
      "outputs": [
        {
          "output_type": "stream",
          "name": "stdout",
          "text": [
            "Requirement already satisfied: pandas in /usr/local/lib/python3.12/dist-packages (2.2.2)\n",
            "Requirement already satisfied: numpy>=1.26.0 in /usr/local/lib/python3.12/dist-packages (from pandas) (2.0.2)\n",
            "Requirement already satisfied: python-dateutil>=2.8.2 in /usr/local/lib/python3.12/dist-packages (from pandas) (2.9.0.post0)\n",
            "Requirement already satisfied: pytz>=2020.1 in /usr/local/lib/python3.12/dist-packages (from pandas) (2025.2)\n",
            "Requirement already satisfied: tzdata>=2022.7 in /usr/local/lib/python3.12/dist-packages (from pandas) (2025.2)\n",
            "Requirement already satisfied: six>=1.5 in /usr/local/lib/python3.12/dist-packages (from python-dateutil>=2.8.2->pandas) (1.17.0)\n",
            "Requirement already satisfied: matplotlib in /usr/local/lib/python3.12/dist-packages (3.10.0)\n",
            "Requirement already satisfied: contourpy>=1.0.1 in /usr/local/lib/python3.12/dist-packages (from matplotlib) (1.3.3)\n",
            "Requirement already satisfied: cycler>=0.10 in /usr/local/lib/python3.12/dist-packages (from matplotlib) (0.12.1)\n",
            "Requirement already satisfied: fonttools>=4.22.0 in /usr/local/lib/python3.12/dist-packages (from matplotlib) (4.59.2)\n",
            "Requirement already satisfied: kiwisolver>=1.3.1 in /usr/local/lib/python3.12/dist-packages (from matplotlib) (1.4.9)\n",
            "Requirement already satisfied: numpy>=1.23 in /usr/local/lib/python3.12/dist-packages (from matplotlib) (2.0.2)\n",
            "Requirement already satisfied: packaging>=20.0 in /usr/local/lib/python3.12/dist-packages (from matplotlib) (25.0)\n",
            "Requirement already satisfied: pillow>=8 in /usr/local/lib/python3.12/dist-packages (from matplotlib) (11.3.0)\n",
            "Requirement already satisfied: pyparsing>=2.3.1 in /usr/local/lib/python3.12/dist-packages (from matplotlib) (3.2.3)\n",
            "Requirement already satisfied: python-dateutil>=2.7 in /usr/local/lib/python3.12/dist-packages (from matplotlib) (2.9.0.post0)\n",
            "Requirement already satisfied: six>=1.5 in /usr/local/lib/python3.12/dist-packages (from python-dateutil>=2.7->matplotlib) (1.17.0)\n"
          ]
        }
      ],
      "source": [
        "!pip install pandas\n",
        "!pip install matplotlib"
      ],
      "execution_count": 1
    },
    {
      "cell_type": "markdown",
      "metadata": {
        "id": "37b8c69b-ce80-4c51-bef1-fa344e72a840"
      },
      "source": [
        "## Tasks\n"
      ]
    },
    {
      "cell_type": "markdown",
      "metadata": {
        "id": "9944eb65-42f7-4a97-bc2a-87f69456a1a4"
      },
      "source": [
        "#### Step 1: Import the necessary module.\n"
      ]
    },
    {
      "cell_type": "markdown",
      "metadata": {
        "id": "6f636b4c-6417-4cbc-a15d-da5bdab947e7"
      },
      "source": [
        "### 1. Load the Dataset\n"
      ]
    },
    {
      "cell_type": "markdown",
      "metadata": {
        "id": "d0302abc-6d29-4f75-9023-8bfd18365412"
      },
      "source": [
        "<h5>1.1 Import necessary libraries and load the dataset.</h5>\n"
      ]
    },
    {
      "cell_type": "markdown",
      "metadata": {
        "id": "d1acfb07-c289-45fc-a4a3-20bcad583eed"
      },
      "source": [
        "Ensure the dataset is loaded correctly by displaying the first few rows.\n"
      ]
    },
    {
      "cell_type": "code",
      "metadata": {
        "colab": {
          "base_uri": "https://localhost:8080/"
        },
        "id": "417bbb3f-df8d-45ec-8d6e-8f695d9a4a25",
        "outputId": "d52a4267-a8bb-4d6b-d889-ce1caa8dbbd2"
      },
      "outputs": [
        {
          "output_type": "stream",
          "name": "stdout",
          "text": [
            "   ResponseId                      MainBranch                 Age  \\\n",
            "0           1  I am a developer by profession  Under 18 years old   \n",
            "1           2  I am a developer by profession     35-44 years old   \n",
            "2           3  I am a developer by profession     45-54 years old   \n",
            "3           4           I am learning to code     18-24 years old   \n",
            "4           5  I am a developer by profession     18-24 years old   \n",
            "\n",
            "            Employment RemoteWork   Check  \\\n",
            "0  Employed, full-time     Remote  Apples   \n",
            "1  Employed, full-time     Remote  Apples   \n",
            "2  Employed, full-time     Remote  Apples   \n",
            "3   Student, full-time        NaN  Apples   \n",
            "4   Student, full-time        NaN  Apples   \n",
            "\n",
            "                                    CodingActivities  \\\n",
            "0                                              Hobby   \n",
            "1  Hobby;Contribute to open-source projects;Other...   \n",
            "2  Hobby;Contribute to open-source projects;Other...   \n",
            "3                                                NaN   \n",
            "4                                                NaN   \n",
            "\n",
            "                                             EdLevel  \\\n",
            "0                          Primary/elementary school   \n",
            "1       Bachelor’s degree (B.A., B.S., B.Eng., etc.)   \n",
            "2    Master’s degree (M.A., M.S., M.Eng., MBA, etc.)   \n",
            "3  Some college/university study without earning ...   \n",
            "4  Secondary school (e.g. American high school, G...   \n",
            "\n",
            "                                           LearnCode  \\\n",
            "0                             Books / Physical media   \n",
            "1  Books / Physical media;Colleague;On the job tr...   \n",
            "2  Books / Physical media;Colleague;On the job tr...   \n",
            "3  Other online resources (e.g., videos, blogs, f...   \n",
            "4  Other online resources (e.g., videos, blogs, f...   \n",
            "\n",
            "                                     LearnCodeOnline  ... JobSatPoints_6  \\\n",
            "0                                                NaN  ...            NaN   \n",
            "1  Technical documentation;Blogs;Books;Written Tu...  ...            0.0   \n",
            "2  Technical documentation;Blogs;Books;Written Tu...  ...            NaN   \n",
            "3  Stack Overflow;How-to videos;Interactive tutorial  ...            NaN   \n",
            "4  Technical documentation;Blogs;Written Tutorial...  ...            NaN   \n",
            "\n",
            "  JobSatPoints_7 JobSatPoints_8 JobSatPoints_9 JobSatPoints_10  \\\n",
            "0            NaN            NaN            NaN             NaN   \n",
            "1            0.0            0.0            0.0             0.0   \n",
            "2            NaN            NaN            NaN             NaN   \n",
            "3            NaN            NaN            NaN             NaN   \n",
            "4            NaN            NaN            NaN             NaN   \n",
            "\n",
            "  JobSatPoints_11           SurveyLength SurveyEase ConvertedCompYearly JobSat  \n",
            "0             NaN                    NaN        NaN                 NaN    NaN  \n",
            "1             0.0                    NaN        NaN                 NaN    NaN  \n",
            "2             NaN  Appropriate in length       Easy                 NaN    NaN  \n",
            "3             NaN               Too long       Easy                 NaN    NaN  \n",
            "4             NaN              Too short       Easy                 NaN    NaN  \n",
            "\n",
            "[5 rows x 114 columns]\n"
          ]
        }
      ],
      "source": [
        "# Import necessary libraries\n",
        "import pandas as pd\n",
        "\n",
        "# Load the Stack Overflow survey data\n",
        "dataset_url = \"https://cf-courses-data.s3.us.cloud-object-storage.appdomain.cloud/n01PQ9pSmiRX6520flujwQ/survey-data.csv\"\n",
        "df = pd.read_csv(dataset_url)\n",
        "\n",
        "# Display the first few rows\n",
        "print(df.head())\n"
      ],
      "execution_count": 2
    },
    {
      "cell_type": "markdown",
      "metadata": {
        "id": "5c7df306-0dd0-4566-a376-bad64fbf6455"
      },
      "source": [
        "#### 2. Explore the Dataset\n"
      ]
    },
    {
      "cell_type": "markdown",
      "metadata": {
        "id": "0a7b356e-a83e-478a-bd04-da95500e0304"
      },
      "source": [
        "<h5>2.1 Summarize the dataset by displaying the column data types, counts, and missing values.</h5>\n"
      ]
    },
    {
      "cell_type": "code",
      "metadata": {
        "colab": {
          "base_uri": "https://localhost:8080/"
        },
        "id": "a5b368e2-4d3c-4382-9b1c-458be459ecef",
        "outputId": "5e4e378a-4e1e-47bd-c362-f779683648f9"
      },
      "outputs": [
        {
          "output_type": "stream",
          "name": "stdout",
          "text": [
            "<class 'pandas.core.frame.DataFrame'>\n",
            "RangeIndex: 65437 entries, 0 to 65436\n",
            "Columns: 114 entries, ResponseId to JobSat\n",
            "dtypes: float64(13), int64(1), object(100)\n",
            "memory usage: 56.9+ MB\n",
            "None\n",
            "ResponseId             65437\n",
            "MainBranch             65437\n",
            "Age                    65437\n",
            "Employment             65437\n",
            "RemoteWork             54806\n",
            "                       ...  \n",
            "JobSatPoints_11        29445\n",
            "SurveyLength           56182\n",
            "SurveyEase             56238\n",
            "ConvertedCompYearly    23435\n",
            "JobSat                 29126\n",
            "Length: 114, dtype: int64\n",
            "ResponseId                 0\n",
            "MainBranch                 0\n",
            "Age                        0\n",
            "Employment                 0\n",
            "RemoteWork             10631\n",
            "                       ...  \n",
            "JobSatPoints_11        35992\n",
            "SurveyLength            9255\n",
            "SurveyEase              9199\n",
            "ConvertedCompYearly    42002\n",
            "JobSat                 36311\n",
            "Length: 114, dtype: int64\n"
          ]
        }
      ],
      "source": [
        "# Display column data types\n",
        "print(df.info())\n",
        "\n",
        "# Display the number of non-missing values for each column\n",
        "print(df.count())\n",
        "\n",
        "# Display the number of missing values for each column\n",
        "print(df.isnull().sum())"
      ],
      "execution_count": 14
    },
    {
      "cell_type": "code",
      "metadata": {
        "colab": {
          "base_uri": "https://localhost:8080/"
        },
        "id": "61e57b0b",
        "outputId": "3c817f20-3e53-47b2-c1f7-b1cfdff56f3e"
      },
      "source": [
        "# Assuming 'YearsCodePro' is the column representing years of professional coding experience\n",
        "# Let's first inspect the unique values and data type of this column.\n",
        "print(df['YearsCodePro'].unique())\n",
        "print(df['YearsCodePro'].dtype)"
      ],
      "execution_count": 24,
      "outputs": [
        {
          "output_type": "stream",
          "name": "stdout",
          "text": [
            "[nan '17' '27' '7' '11' '25' '12' '10' '3' 'Less than 1 year' '18' '37'\n",
            " '15' '20' '6' '2' '16' '8' '14' '4' '45' '1' '24' '29' '5' '30' '26' '9'\n",
            " '33' '13' '35' '23' '22' '31' '19' '21' '28' '34' '32' '40' '50' '39'\n",
            " '44' '42' '41' '36' '38' 'More than 50 years' '43' '47' '48' '46' '49']\n",
            "object\n"
          ]
        }
      ]
    },
    {
      "cell_type": "markdown",
      "metadata": {
        "id": "3787d45b"
      },
      "source": [
        "##### 3\\.2 Standardize entries in columns like Country or EdLevel by mapping inconsistent values to a consistent format."
      ]
    },
    {
      "cell_type": "markdown",
      "metadata": {
        "id": "685cdd1b-44d7-40cf-ba9f-ee347f747832"
      },
      "source": [
        "<h5>2.2 Generate basic statistics for numerical columns.</h5>\n"
      ]
    },
    {
      "cell_type": "code",
      "metadata": {
        "colab": {
          "base_uri": "https://localhost:8080/"
        },
        "id": "e527b643-6963-4a64-aab2-297894062fcb",
        "outputId": "8b6030be-5c8b-4260-8f3f-954f819ef9d7"
      },
      "outputs": [
        {
          "output_type": "stream",
          "name": "stdout",
          "text": [
            "         ResponseId      CompTotal       WorkExp  JobSatPoints_1  \\\n",
            "count  65437.000000   3.374000e+04  29658.000000    29324.000000   \n",
            "mean   32719.000000  2.963841e+145     11.466957       18.581094   \n",
            "std    18890.179119  5.444117e+147      9.168709       25.966221   \n",
            "min        1.000000   0.000000e+00      0.000000        0.000000   \n",
            "25%    16360.000000   6.000000e+04      4.000000        0.000000   \n",
            "50%    32719.000000   1.100000e+05      9.000000       10.000000   \n",
            "75%    49078.000000   2.500000e+05     16.000000       22.000000   \n",
            "max    65437.000000  1.000000e+150     50.000000      100.000000   \n",
            "\n",
            "       JobSatPoints_4  JobSatPoints_5  JobSatPoints_6  JobSatPoints_7  \\\n",
            "count    29393.000000    29411.000000    29450.000000     29448.00000   \n",
            "mean         7.522140       10.060857       24.343232        22.96522   \n",
            "std         18.422661       21.833836       27.089360        27.01774   \n",
            "min          0.000000        0.000000        0.000000         0.00000   \n",
            "25%          0.000000        0.000000        0.000000         0.00000   \n",
            "50%          0.000000        0.000000       20.000000        15.00000   \n",
            "75%          5.000000       10.000000       30.000000        30.00000   \n",
            "max        100.000000      100.000000      100.000000       100.00000   \n",
            "\n",
            "       JobSatPoints_8  JobSatPoints_9  JobSatPoints_10  JobSatPoints_11  \\\n",
            "count    29456.000000    29456.000000     29450.000000     29445.000000   \n",
            "mean        20.278165       16.169432        10.955713         9.953948   \n",
            "std         26.108110       24.845032        22.906263        21.775652   \n",
            "min          0.000000        0.000000         0.000000         0.000000   \n",
            "25%          0.000000        0.000000         0.000000         0.000000   \n",
            "50%         10.000000        5.000000         0.000000         0.000000   \n",
            "75%         25.000000       20.000000        10.000000        10.000000   \n",
            "max        100.000000      100.000000       100.000000       100.000000   \n",
            "\n",
            "       ConvertedCompYearly        JobSat  \n",
            "count         2.343500e+04  29126.000000  \n",
            "mean          8.615529e+04      6.935041  \n",
            "std           1.867570e+05      2.088259  \n",
            "min           1.000000e+00      0.000000  \n",
            "25%           3.271200e+04      6.000000  \n",
            "50%           6.500000e+04      7.000000  \n",
            "75%           1.079715e+05      8.000000  \n",
            "max           1.625660e+07     10.000000  \n"
          ]
        }
      ],
      "source": [
        "# Generate basic statistics for numerical columns\n",
        "print(df.describe())"
      ],
      "execution_count": 15
    },
    {
      "cell_type": "markdown",
      "metadata": {
        "id": "8ca71359-8f5b-4f33-afe9-af011c2eae37"
      },
      "source": [
        "### 3. Identifying and Removing Inconsistencies\n"
      ]
    },
    {
      "cell_type": "markdown",
      "metadata": {
        "id": "224d423d-4338-423a-ae66-40981cc7809d"
      },
      "source": [
        "<h5>3.1 Identify inconsistent or irrelevant entries in specific columns (e.g., Country).</h5>\n"
      ]
    },
    {
      "cell_type": "code",
      "metadata": {
        "colab": {
          "base_uri": "https://localhost:8080/"
        },
        "id": "fd43fee0-2805-495c-93df-2f93fa2c35fa",
        "outputId": "dda0c230-3c5e-4dac-d606-c07db38dc84a"
      },
      "outputs": [
        {
          "output_type": "stream",
          "name": "stdout",
          "text": [
            "['United States of America'\n",
            " 'United Kingdom of Great Britain and Northern Ireland' 'Canada' 'Norway'\n",
            " 'Uzbekistan' 'Serbia' 'Poland' 'Philippines' 'Bulgaria' 'Switzerland'\n",
            " 'India' 'Germany' 'Ireland' 'Italy' 'Ukraine' 'Australia' 'Brazil'\n",
            " 'Japan' 'Austria' 'Iran, Islamic Republic of...' 'France' 'Saudi Arabia'\n",
            " 'Romania' 'Turkey' 'Nepal' 'Algeria' 'Sweden' 'Netherlands' 'Croatia'\n",
            " 'Pakistan' 'Czech Republic' 'Republic of North Macedonia' 'Finland'\n",
            " 'Slovakia' 'Russian Federation' 'Greece' 'Israel' 'Belgium' 'Mexico'\n",
            " 'United Republic of Tanzania' 'Hungary' 'Argentina' 'Portugal'\n",
            " 'Sri Lanka' 'Latvia' 'China' 'Singapore' 'Lebanon' 'Spain' 'South Africa'\n",
            " 'Lithuania' 'Viet Nam' 'Dominican Republic' 'Indonesia' 'Kosovo'\n",
            " 'Morocco' 'Taiwan' 'Georgia' 'San Marino' 'Tunisia' 'Bangladesh'\n",
            " 'Nigeria' 'Liechtenstein' 'Denmark' 'Ecuador' 'Malaysia' 'Albania'\n",
            " 'Azerbaijan' 'Chile' 'Ghana' 'Peru' 'Bolivia' 'Egypt' 'Luxembourg'\n",
            " 'Montenegro' 'Cyprus' 'Paraguay' 'Kazakhstan' 'Slovenia' 'Jordan'\n",
            " 'Venezuela, Bolivarian Republic of...' 'Costa Rica' 'Jamaica' 'Thailand'\n",
            " 'Nicaragua' 'Myanmar' 'Republic of Korea' 'Rwanda'\n",
            " 'Bosnia and Herzegovina' 'Benin' 'El Salvador' 'Zimbabwe' 'Afghanistan'\n",
            " 'Estonia' 'Malta' 'Uruguay' 'Belarus' 'Colombia' 'Republic of Moldova'\n",
            " 'Isle of Man' 'Nomadic' 'New Zealand' 'Palestine' 'Armenia'\n",
            " 'United Arab Emirates' 'Maldives' 'Ethiopia' 'Fiji' 'Guatemala' 'Uganda'\n",
            " 'Turkmenistan' 'Mauritius' 'Kenya' 'Cuba' 'Gabon' 'Bahamas' 'South Korea'\n",
            " 'Iceland' 'Honduras' 'Hong Kong (S.A.R.)'\n",
            " \"Lao People's Democratic Republic\" 'Mongolia' 'Cambodia' 'Madagascar'\n",
            " 'Angola' 'Democratic Republic of the Congo' 'Syrian Arab Republic' 'Iraq'\n",
            " 'Namibia' 'Senegal' 'Kyrgyzstan' 'Zambia' 'Swaziland' \"Côte d'Ivoire\"\n",
            " 'Kuwait' 'Tajikistan' 'Burundi' 'Trinidad and Tobago' 'Mauritania'\n",
            " 'Sierra Leone' 'Panama' 'Somalia' 'North Korea' 'Dominica' 'Guyana'\n",
            " 'Togo' 'Oman' 'Barbados' 'Andorra'\n",
            " \"Democratic People's Republic of Korea\" 'Qatar' 'Sudan' 'Cameroon'\n",
            " 'Papua New Guinea' 'Bahrain' 'Yemen' 'Malawi' 'Burkina Faso'\n",
            " 'Congo, Republic of the...' 'Botswana' 'Guinea-Bissau' 'Mozambique'\n",
            " 'Central African Republic' 'Equatorial Guinea' 'Suriname' 'Belize'\n",
            " 'Libyan Arab Jamahiriya' 'Cape Verde' 'Brunei Darussalam' 'Bhutan'\n",
            " 'Guinea' 'Niger' 'Antigua and Barbuda' 'Mali' 'Samoa' 'Lesotho'\n",
            " 'Saint Kitts and Nevis' 'Monaco' 'Micronesia, Federated States of...'\n",
            " 'Haiti' nan 'Nauru' 'Liberia' 'Chad' 'Djibouti' 'Solomon Islands']\n"
          ]
        }
      ],
      "source": [
        "# Identify unique values in the 'Country' column\n",
        "print(df['Country'].unique())"
      ],
      "execution_count": 16
    },
    {
      "cell_type": "markdown",
      "metadata": {
        "id": "a32ff9e2-d19e-4175-9997-907c09a94df0"
      },
      "source": [
        "<h5>3.2 Standardize entries in columns like Country or EdLevel by mapping inconsistent values to a consistent format.</h5>\n"
      ]
    },
    {
      "cell_type": "code",
      "metadata": {
        "colab": {
          "base_uri": "https://localhost:8080/"
        },
        "id": "196a5909-90b5-4a2b-80cc-ca4427fb97f6",
        "outputId": "46014730-40a8-4632-c030-67aeb2383d9b"
      },
      "outputs": [
        {
          "output_type": "stream",
          "name": "stdout",
          "text": [
            "['United States' 'United Kingdom' 'Canada' 'Norway' 'Uzbekistan' 'Serbia'\n",
            " 'Poland' 'Philippines' 'Bulgaria' 'Switzerland' 'India' 'Germany'\n",
            " 'Ireland' 'Italy' 'Ukraine' 'Australia' 'Brazil' 'Japan' 'Austria' 'Iran'\n",
            " 'France' 'Saudi Arabia' 'Romania' 'Turkey' 'Nepal' 'Algeria' 'Sweden'\n",
            " 'Netherlands' 'Croatia' 'Pakistan' 'Czech Republic'\n",
            " 'Republic of North Macedonia' 'Finland' 'Slovakia' 'Russia' 'Greece'\n",
            " 'Israel' 'Belgium' 'Mexico' 'United Republic of Tanzania' 'Hungary'\n",
            " 'Argentina' 'Portugal' 'Sri Lanka' 'Latvia' 'China' 'Singapore' 'Lebanon'\n",
            " 'Spain' 'South Africa' 'Lithuania' 'Viet Nam' 'Dominican Republic'\n",
            " 'Indonesia' 'Kosovo' 'Morocco' 'Taiwan' 'Georgia' 'San Marino' 'Tunisia'\n",
            " 'Bangladesh' 'Nigeria' 'Liechtenstein' 'Denmark' 'Ecuador' 'Malaysia'\n",
            " 'Albania' 'Azerbaijan' 'Chile' 'Ghana' 'Peru' 'Bolivia' 'Egypt'\n",
            " 'Luxembourg' 'Montenegro' 'Cyprus' 'Paraguay' 'Kazakhstan' 'Slovenia'\n",
            " 'Jordan' 'Venezuela' 'Costa Rica' 'Jamaica' 'Thailand' 'Nicaragua'\n",
            " 'Myanmar' 'Republic of Korea' 'Rwanda' 'Bosnia and Herzegovina' 'Benin'\n",
            " 'El Salvador' 'Zimbabwe' 'Afghanistan' 'Estonia' 'Malta' 'Uruguay'\n",
            " 'Belarus' 'Colombia' 'Republic of Moldova' 'Isle of Man' 'Nomadic'\n",
            " 'New Zealand' 'Palestine' 'Armenia' 'United Arab Emirates' 'Maldives'\n",
            " 'Ethiopia' 'Fiji' 'Guatemala' 'Uganda' 'Turkmenistan' 'Mauritius' 'Kenya'\n",
            " 'Cuba' 'Gabon' 'Bahamas' 'South Korea' 'Iceland' 'Honduras'\n",
            " 'Hong Kong (S.A.R.)' \"Lao People's Democratic Republic\" 'Mongolia'\n",
            " 'Cambodia' 'Madagascar' 'Angola' 'Democratic Republic of the Congo'\n",
            " 'Syrian Arab Republic' 'Iraq' 'Namibia' 'Senegal' 'Kyrgyzstan' 'Zambia'\n",
            " 'Swaziland' \"Côte d'Ivoire\" 'Kuwait' 'Tajikistan' 'Burundi'\n",
            " 'Trinidad and Tobago' 'Mauritania' 'Sierra Leone' 'Panama' 'Somalia'\n",
            " 'North Korea' 'Dominica' 'Guyana' 'Togo' 'Oman' 'Barbados' 'Andorra'\n",
            " \"Democratic People's Republic of Korea\" 'Qatar' 'Sudan' 'Cameroon'\n",
            " 'Papua New Guinea' 'Bahrain' 'Yemen' 'Malawi' 'Burkina Faso'\n",
            " 'Congo, Republic of the...' 'Botswana' 'Guinea-Bissau' 'Mozambique'\n",
            " 'Central African Republic' 'Equatorial Guinea' 'Suriname' 'Belize'\n",
            " 'Libyan Arab Jamahiriya' 'Cape Verde' 'Brunei Darussalam' 'Bhutan'\n",
            " 'Guinea' 'Niger' 'Antigua and Barbuda' 'Mali' 'Samoa' 'Lesotho'\n",
            " 'Saint Kitts and Nevis' 'Monaco' 'Micronesia, Federated States of...'\n",
            " 'Haiti' nan 'Nauru' 'Liberia' 'Chad' 'Djibouti' 'Solomon Islands']\n"
          ]
        }
      ],
      "source": [
        "# Example of standardizing country names\n",
        "df['Country'] = df['Country'].replace({\n",
        "    'United Kingdom of Great Britain and Northern Ireland': 'United Kingdom',\n",
        "    'United States of America': 'United States',\n",
        "    'Iran, Islamic Republic of...': 'Iran',\n",
        "    'Venezuela, Bolivarian Republic of...': 'Venezuela',\n",
        "    'Russian Federation': 'Russia'\n",
        "})\n",
        "\n",
        "# Display the updated unique values in the 'Country' column to verify\n",
        "print(df['Country'].unique())"
      ],
      "execution_count": 17
    },
    {
      "cell_type": "markdown",
      "metadata": {
        "id": "f3f7396f-8152-454d-b0d6-ee70eaba540d"
      },
      "source": [
        "### 4. Encoding Categorical Variables\n"
      ]
    },
    {
      "cell_type": "markdown",
      "metadata": {
        "id": "0e675dd9-b427-4c7a-92c2-b711a8ebb6a0"
      },
      "source": [
        "<h5>4.1 Encode the Employment column using one-hot encoding.</h5>\n"
      ]
    },
    {
      "cell_type": "code",
      "metadata": {
        "colab": {
          "base_uri": "https://localhost:8080/"
        },
        "id": "13bded1e-c766-46f0-9015-88228947549c",
        "outputId": "0ac9fd27-2153-4387-8363-856e38e60809"
      },
      "outputs": [
        {
          "output_type": "stream",
          "name": "stdout",
          "text": [
            "   ResponseId                      MainBranch                 Age  \\\n",
            "0           1  I am a developer by profession  Under 18 years old   \n",
            "1           2  I am a developer by profession     35-44 years old   \n",
            "2           3  I am a developer by profession     45-54 years old   \n",
            "3           4           I am learning to code     18-24 years old   \n",
            "4           5  I am a developer by profession     18-24 years old   \n",
            "\n",
            "            Employment RemoteWork   Check  \\\n",
            "0  Employed, full-time     Remote  Apples   \n",
            "1  Employed, full-time     Remote  Apples   \n",
            "2  Employed, full-time     Remote  Apples   \n",
            "3   Student, full-time        NaN  Apples   \n",
            "4   Student, full-time        NaN  Apples   \n",
            "\n",
            "                                    CodingActivities  \\\n",
            "0                                              Hobby   \n",
            "1  Hobby;Contribute to open-source projects;Other...   \n",
            "2  Hobby;Contribute to open-source projects;Other...   \n",
            "3                                                NaN   \n",
            "4                                                NaN   \n",
            "\n",
            "                                             EdLevel  \\\n",
            "0                          Primary/elementary school   \n",
            "1       Bachelor’s degree (B.A., B.S., B.Eng., etc.)   \n",
            "2    Master’s degree (M.A., M.S., M.Eng., MBA, etc.)   \n",
            "3  Some college/university study without earning ...   \n",
            "4  Secondary school (e.g. American high school, G...   \n",
            "\n",
            "                                           LearnCode  \\\n",
            "0                             Books / Physical media   \n",
            "1  Books / Physical media;Colleague;On the job tr...   \n",
            "2  Books / Physical media;Colleague;On the job tr...   \n",
            "3  Other online resources (e.g., videos, blogs, f...   \n",
            "4  Other online resources (e.g., videos, blogs, f...   \n",
            "\n",
            "                                     LearnCodeOnline  ...  \\\n",
            "0                                                NaN  ...   \n",
            "1  Technical documentation;Blogs;Books;Written Tu...  ...   \n",
            "2  Technical documentation;Blogs;Books;Written Tu...  ...   \n",
            "3  Stack Overflow;How-to videos;Interactive tutorial  ...   \n",
            "4  Technical documentation;Blogs;Written Tutorial...  ...   \n",
            "\n",
            "  Employment_Student, full-time;Not employed, but looking for work;Not employed, and not looking for work;Student, part-time  \\\n",
            "0                                              False                                                                           \n",
            "1                                              False                                                                           \n",
            "2                                              False                                                                           \n",
            "3                                              False                                                                           \n",
            "4                                              False                                                                           \n",
            "\n",
            "  Employment_Student, full-time;Not employed, but looking for work;Retired  \\\n",
            "0                                              False                         \n",
            "1                                              False                         \n",
            "2                                              False                         \n",
            "3                                              False                         \n",
            "4                                              False                         \n",
            "\n",
            "  Employment_Student, full-time;Not employed, but looking for work;Student, part-time  \\\n",
            "0                                              False                                    \n",
            "1                                              False                                    \n",
            "2                                              False                                    \n",
            "3                                              False                                    \n",
            "4                                              False                                    \n",
            "\n",
            "  Employment_Student, full-time;Retired  \\\n",
            "0                                 False   \n",
            "1                                 False   \n",
            "2                                 False   \n",
            "3                                 False   \n",
            "4                                 False   \n",
            "\n",
            "  Employment_Student, full-time;Student, part-time  \\\n",
            "0                                            False   \n",
            "1                                            False   \n",
            "2                                            False   \n",
            "3                                            False   \n",
            "4                                            False   \n",
            "\n",
            "  Employment_Student, full-time;Student, part-time;Employed, part-time  \\\n",
            "0                                              False                     \n",
            "1                                              False                     \n",
            "2                                              False                     \n",
            "3                                              False                     \n",
            "4                                              False                     \n",
            "\n",
            "  Employment_Student, full-time;Student, part-time;Retired  \\\n",
            "0                                              False         \n",
            "1                                              False         \n",
            "2                                              False         \n",
            "3                                              False         \n",
            "4                                              False         \n",
            "\n",
            "  Employment_Student, part-time  \\\n",
            "0                         False   \n",
            "1                         False   \n",
            "2                         False   \n",
            "3                         False   \n",
            "4                         False   \n",
            "\n",
            "  Employment_Student, part-time;Employed, part-time  \\\n",
            "0                                             False   \n",
            "1                                             False   \n",
            "2                                             False   \n",
            "3                                             False   \n",
            "4                                             False   \n",
            "\n",
            "  Employment_Student, part-time;Retired  \n",
            "0                                 False  \n",
            "1                                 False  \n",
            "2                                 False  \n",
            "3                                 False  \n",
            "4                                 False  \n",
            "\n",
            "[5 rows x 224 columns]\n"
          ]
        }
      ],
      "source": [
        "# Encode the Employment column using one-hot encoding\n",
        "employment_encoded = pd.get_dummies(df['Employment'], prefix='Employment')\n",
        "df = pd.concat([df, employment_encoded], axis=1)\n",
        "\n",
        "# Display the first few rows with the new encoded columns\n",
        "print(df.head())"
      ],
      "execution_count": 18
    },
    {
      "cell_type": "markdown",
      "metadata": {
        "id": "fe0d75d2-209f-4c56-b14e-b2f8037e76d7"
      },
      "source": [
        "### 5. Handling Missing Values\n"
      ]
    },
    {
      "cell_type": "markdown",
      "metadata": {
        "id": "167edac3-f763-4689-89f9-c2b499fe6ceb"
      },
      "source": [
        "<h5>5.1 Identify columns with the highest number of missing values.</h5>\n"
      ]
    },
    {
      "cell_type": "code",
      "metadata": {
        "colab": {
          "base_uri": "https://localhost:8080/"
        },
        "id": "3b9b722d-ab02-4316-a64c-96fd10d57f09",
        "outputId": "beac7b2a-523a-46bc-b711-8c9af0d71f01"
      },
      "outputs": [
        {
          "output_type": "stream",
          "name": "stdout",
          "text": [
            "Columns with the highest number of missing values:\n",
            "AINextMuch less integrated       64289\n",
            "AINextLess integrated            63082\n",
            "AINextNo change                  52939\n",
            "AINextMuch more integrated       51999\n",
            "EmbeddedAdmired                  48704\n",
            "EmbeddedWantToWorkWith           47837\n",
            "EmbeddedHaveWorkedWith           43223\n",
            "ConvertedCompYearly              42002\n",
            "AIToolNot interested in Using    41023\n",
            "AINextMore integrated            41009\n",
            "dtype: int64\n"
          ]
        }
      ],
      "source": [
        "# Identify columns with the highest number of missing values\n",
        "missing_values_count = df.isnull().sum()\n",
        "print(\"Columns with the highest number of missing values:\")\n",
        "print(missing_values_count.sort_values(ascending=False).head(10)) # Display top 10 columns"
      ],
      "execution_count": 19
    },
    {
      "cell_type": "markdown",
      "metadata": {
        "id": "3494af17-d786-412c-8fa5-93007c842385"
      },
      "source": [
        "<h5>5.2 Impute missing values in numerical columns (e.g., `ConvertedCompYearly`) with the mean or median.</h5>\n"
      ]
    },
    {
      "cell_type": "code",
      "metadata": {
        "colab": {
          "base_uri": "https://localhost:8080/"
        },
        "id": "5b4dc8e5-d3d2-449d-ae4e-022bd8ee36e3",
        "outputId": "c66b5aa0-0242-4322-d5e8-6847605f02a5"
      },
      "outputs": [
        {
          "output_type": "stream",
          "name": "stdout",
          "text": [
            "Missing values in 'ConvertedCompYearly' after imputation: 0\n"
          ]
        },
        {
          "output_type": "stream",
          "name": "stderr",
          "text": [
            "/tmp/ipython-input-864949903.py:3: FutureWarning: A value is trying to be set on a copy of a DataFrame or Series through chained assignment using an inplace method.\n",
            "The behavior will change in pandas 3.0. This inplace method will never work because the intermediate object on which we are setting values always behaves as a copy.\n",
            "\n",
            "For example, when doing 'df[col].method(value, inplace=True)', try using 'df.method({col: value}, inplace=True)' or df[col] = df[col].method(value) instead, to perform the operation inplace on the original object.\n",
            "\n",
            "\n",
            "  df['ConvertedCompYearly'].fillna(mean_converted_comp, inplace=True)\n"
          ]
        }
      ],
      "source": [
        "# Impute missing values in 'ConvertedCompYearly' with the mean\n",
        "mean_converted_comp = df['ConvertedCompYearly'].mean()\n",
        "df['ConvertedCompYearly'].fillna(mean_converted_comp, inplace=True)\n",
        "\n",
        "# Verify the imputation by checking the number of missing values in 'ConvertedCompYearly'\n",
        "print(f\"Missing values in 'ConvertedCompYearly' after imputation: {df['ConvertedCompYearly'].isnull().sum()}\")"
      ],
      "execution_count": 20
    },
    {
      "cell_type": "markdown",
      "metadata": {
        "id": "b7aa6dd5-e442-4042-8e0b-7b047c5271c7"
      },
      "source": [
        "<h5>5.3 Impute missing values in categorical columns (e.g., `RemoteWork`) with the most frequent value.</h5>\n"
      ]
    },
    {
      "cell_type": "code",
      "metadata": {
        "colab": {
          "base_uri": "https://localhost:8080/"
        },
        "id": "3e8de2f3-b9f2-4b54-8545-cfab7573a4ce",
        "outputId": "c3ccd25b-47c7-4610-f62d-f8ebcfbac29f"
      },
      "outputs": [
        {
          "output_type": "stream",
          "name": "stdout",
          "text": [
            "Missing values in 'RemoteWork' after imputation: 0\n"
          ]
        },
        {
          "output_type": "stream",
          "name": "stderr",
          "text": [
            "/tmp/ipython-input-2669122596.py:3: FutureWarning: A value is trying to be set on a copy of a DataFrame or Series through chained assignment using an inplace method.\n",
            "The behavior will change in pandas 3.0. This inplace method will never work because the intermediate object on which we are setting values always behaves as a copy.\n",
            "\n",
            "For example, when doing 'df[col].method(value, inplace=True)', try using 'df.method({col: value}, inplace=True)' or df[col] = df[col].method(value) instead, to perform the operation inplace on the original object.\n",
            "\n",
            "\n",
            "  df['RemoteWork'].fillna(most_frequent_remotework, inplace=True)\n"
          ]
        }
      ],
      "source": [
        "# Impute missing values in 'RemoteWork' with the most frequent value\n",
        "most_frequent_remotework = df['RemoteWork'].mode()[0]\n",
        "df['RemoteWork'].fillna(most_frequent_remotework, inplace=True)\n",
        "\n",
        "# Verify the imputation\n",
        "print(f\"Missing values in 'RemoteWork' after imputation: {df['RemoteWork'].isnull().sum()}\")"
      ],
      "execution_count": 21
    },
    {
      "cell_type": "markdown",
      "metadata": {
        "id": "df590266-80ce-41e6-aec8-0e535b770629"
      },
      "source": [
        "### 6. Feature Scaling and Transformation\n"
      ]
    },
    {
      "cell_type": "markdown",
      "metadata": {
        "id": "11ac8b9d-3b1a-472f-b49a-d8d0299204dc"
      },
      "source": [
        "<h5>6.1 Apply Min-Max Scaling to normalize the `ConvertedCompYearly` column.</h5>\n"
      ]
    },
    {
      "cell_type": "code",
      "metadata": {
        "colab": {
          "base_uri": "https://localhost:8080/"
        },
        "id": "241cb998-7b86-412a-b45c-9463c1bbf02a",
        "outputId": "89c021fd-1f1c-4519-f4e1-bd8c8f60103d"
      },
      "outputs": [
        {
          "output_type": "stream",
          "name": "stdout",
          "text": [
            "   ConvertedCompYearly  ConvertedCompYearly_scaled\n",
            "0         86155.287263                      0.0053\n",
            "1         86155.287263                      0.0053\n",
            "2         86155.287263                      0.0053\n",
            "3         86155.287263                      0.0053\n",
            "4         86155.287263                      0.0053\n"
          ]
        }
      ],
      "source": [
        "from sklearn.preprocessing import MinMaxScaler\n",
        "\n",
        "# Apply Min-Max Scaling to normalize 'ConvertedCompYearly'\n",
        "scaler = MinMaxScaler()\n",
        "df['ConvertedCompYearly_scaled'] = scaler.fit_transform(df[['ConvertedCompYearly']])\n",
        "\n",
        "# Display the first few rows with the new scaled column\n",
        "print(df[['ConvertedCompYearly', 'ConvertedCompYearly_scaled']].head())"
      ],
      "execution_count": 22
    },
    {
      "cell_type": "markdown",
      "metadata": {
        "id": "e556a89e-8ab3-4eaa-9d75-ced79f89ed2c"
      },
      "source": [
        "<h5>6.2 Log-transform the ConvertedCompYearly column to reduce skewness.</h5>\n"
      ]
    },
    {
      "cell_type": "code",
      "metadata": {
        "colab": {
          "base_uri": "https://localhost:8080/"
        },
        "id": "5523f80b-9bcd-4761-a6ad-4f4705687f7f",
        "outputId": "078c4603-89d3-4d87-ed5a-44c31d93c37d"
      },
      "outputs": [
        {
          "output_type": "stream",
          "name": "stdout",
          "text": [
            "   ConvertedCompYearly  ConvertedCompYearly_log\n",
            "0         86155.287263                11.363918\n",
            "1         86155.287263                11.363918\n",
            "2         86155.287263                11.363918\n",
            "3         86155.287263                11.363918\n",
            "4         86155.287263                11.363918\n"
          ]
        }
      ],
      "source": [
        "import numpy as np\n",
        "\n",
        "# Apply log transformation to 'ConvertedCompYearly'\n",
        "# Add a small constant to handle potential zero values before log transformation\n",
        "df['ConvertedCompYearly_log'] = np.log(df['ConvertedCompYearly'] + 1)\n",
        "\n",
        "# Display the first few rows with the new log-transformed column\n",
        "print(df[['ConvertedCompYearly', 'ConvertedCompYearly_log']].head())"
      ],
      "execution_count": 23
    },
    {
      "cell_type": "markdown",
      "metadata": {
        "id": "5d04a76c-224c-4182-9f4c-ff0ed5bac396"
      },
      "source": [
        "### 7. Feature Engineering\n"
      ]
    },
    {
      "cell_type": "markdown",
      "metadata": {
        "id": "a7cd7cc2-4615-4c03-a2a9-ed6a30ef2556"
      },
      "source": [
        "<h5>7.1 Create a new column `ExperienceLevel` based on the `YearsCodePro` column:</h5>\n"
      ]
    },
    {
      "cell_type": "code",
      "metadata": {
        "colab": {
          "base_uri": "https://localhost:8080/"
        },
        "id": "036d111c-2aac-4f34-9995-5d9fc75b1053",
        "outputId": "b3019adb-7448-4958-d173-4684b65767ea"
      },
      "outputs": [
        {
          "output_type": "stream",
          "name": "stdout",
          "text": [
            "   YearsCodePro ExperienceLevel\n",
            "0           NaN         Unknown\n",
            "1          17.0          Senior\n",
            "2          27.0          Senior\n",
            "3           NaN         Unknown\n",
            "4           NaN         Unknown\n"
          ]
        }
      ],
      "source": [
        "# Convert 'YearsCodePro' to numeric, handling the string values\n",
        "df['YearsCodePro'] = df['YearsCodePro'].replace('Less than 1 year', 0.5)\n",
        "df['YearsCodePro'] = df['YearsCodePro'].replace('More than 50 years', 51)\n",
        "df['YearsCodePro'] = pd.to_numeric(df['YearsCodePro'], errors='coerce')\n",
        "\n",
        "# Define a function to categorize experience level\n",
        "def categorize_experience(years):\n",
        "    if pd.isna(years):\n",
        "        return 'Unknown'\n",
        "    elif years < 3:\n",
        "        return 'Entry-level'\n",
        "    elif years < 10:\n",
        "        return 'Mid-level'\n",
        "    else:\n",
        "        return 'Senior'\n",
        "\n",
        "# Apply the function to create the new 'ExperienceLevel' column\n",
        "df['ExperienceLevel'] = df['YearsCodePro'].apply(categorize_experience)\n",
        "\n",
        "# Display the first few rows with the new 'ExperienceLevel' column\n",
        "print(df[['YearsCodePro', 'ExperienceLevel']].head())"
      ],
      "execution_count": 25
    },
    {
      "cell_type": "markdown",
      "metadata": {
        "id": "9cb9db65-501b-4f0a-b514-5b77fe7172b1"
      },
      "source": [
        "### Summary\n"
      ]
    },
    {
      "cell_type": "markdown",
      "metadata": {
        "id": "10613a56-101f-4d4e-8d03-08bb7c5f54bc"
      },
      "source": [
        "In this lab, you:\n",
        "\n",
        "- Explored the dataset to identify inconsistencies and missing values.\n",
        "\n",
        "- Encoded categorical variables for analysis.\n",
        "\n",
        "- Handled missing values using imputation techniques.\n",
        "\n",
        "- Normalized and transformed numerical data to prepare it for analysis.\n",
        "\n",
        "- Engineered a new feature to enhance data interpretation.\n"
      ]
    },
    {
      "cell_type": "markdown",
      "metadata": {
        "id": "d65b9608-d5e2-4b31-a8ce-09231fafce5f"
      },
      "source": [
        "Copyright © IBM Corporation. All rights reserved.\n"
      ]
    }
  ],
  "metadata": {
    "kernelspec": {
      "display_name": "Python 3 (ipykernel)",
      "language": "python",
      "name": "python3"
    },
    "language_info": {
      "codemirror_mode": {
        "name": "ipython",
        "version": 3
      },
      "file_extension": ".py",
      "mimetype": "text/x-python",
      "name": "python",
      "nbconvert_exporter": "python",
      "pygments_lexer": "ipython3",
      "version": "3.11.9"
    },
    "prev_pub_hash": "1e8e234f19fd098e27b0518a87f18de690e1c51f1d3263d5690927d19971251e",
    "colab": {
      "provenance": [],
      "include_colab_link": true
    }
  },
  "nbformat": 4,
  "nbformat_minor": 0
}